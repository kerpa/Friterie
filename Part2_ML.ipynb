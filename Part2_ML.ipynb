{
 "cells": [
  {
   "cell_type": "markdown",
   "metadata": {
    "collapsed": false,
    "pycharm": {
     "name": "#%% md\n"
    }
   },
   "source": [
    "# Part 2:\n",
    "## Import of the data"
   ]
  },
  {
   "cell_type": "code",
   "execution_count": 1,
   "metadata": {
    "collapsed": false,
    "pycharm": {
     "name": "#%%\n"
    }
   },
   "outputs": [],
   "source": [
    "import pandas as pd\n",
    "import matplotlib.pyplot as plt\n",
    "import math\n",
    "from sklearn.metrics import mean_squared_error\n",
    "from sklearn.linear_model import LogisticRegression\n",
    "from sklearn.model_selection import train_test_split\n",
    "from sklearn.ensemble import RandomForestRegressor\n",
    "from sklearn.ensemble import RandomForestClassifier\n",
    "from sklearn.datasets import make_classification"
   ]
  },
  {
   "cell_type": "code",
   "execution_count": 2,
   "metadata": {
    "collapsed": false,
    "pycharm": {
     "name": "#%%\n"
    }
   },
   "outputs": [
    {
     "name": "stdout",
     "output_type": "stream",
     "text": [
      "<class 'pandas.core.frame.DataFrame'>\n",
      "RangeIndex: 664 entries, 0 to 663\n",
      "Data columns (total 10 columns):\n",
      " #   Column           Non-Null Count  Dtype  \n",
      "---  ------           --------------  -----  \n",
      " 0   Date             664 non-null    object \n",
      " 1   Day              664 non-null    object \n",
      " 2   Time             302 non-null    object \n",
      " 3   Hour_missing     664 non-null    float64\n",
      " 4   Hour             664 non-null    float64\n",
      " 5   Petite Frite     664 non-null    int64  \n",
      " 6   Moyenne Frite    664 non-null    int64  \n",
      " 7   Grande Frite     664 non-null    int64  \n",
      " 8   Burger           664 non-null    int64  \n",
      " 9   valeur commande  664 non-null    int64  \n",
      "dtypes: float64(2), int64(5), object(3)\n",
      "memory usage: 52.0+ KB\n"
     ]
    }
   ],
   "source": [
    "foodtruck_data = pd.read_csv(\"data/features_foodtruck.csv\")\n",
    "foodtruck_data.info()"
   ]
  },
  {
   "cell_type": "markdown",
   "metadata": {
    "collapsed": false
   },
   "source": [
    "### Predict missing hours using logistic regression"
   ]
  },
  {
   "cell_type": "code",
   "execution_count": 3,
   "metadata": {
    "collapsed": false,
    "pycharm": {
     "name": "#%%\n"
    }
   },
   "outputs": [
    {
     "data": {
      "text/plain": [
       "Day        Hour\n",
       "Friday     18.0    22.000000\n",
       "           19.0    23.000000\n",
       "           20.0    18.950000\n",
       "           21.0    15.800000\n",
       "Saturday   18.0    16.833333\n",
       "           19.0    19.454545\n",
       "           20.0    19.943396\n",
       "           21.0    20.210526\n",
       "           22.0    21.500000\n",
       "Sunday     18.0    16.750000\n",
       "           19.0    19.357143\n",
       "           20.0    19.447368\n",
       "           21.0    13.238095\n",
       "Thursday   10.0     4.000000\n",
       "           11.0     8.826667\n",
       "           12.0     9.555556\n",
       "           13.0    10.750000\n",
       "Wednesday  11.0     7.875000\n",
       "           12.0     5.870968\n",
       "Name: valeur commande, dtype: float64"
      ]
     },
     "execution_count": 3,
     "metadata": {},
     "output_type": "execute_result"
    }
   ],
   "source": [
    "#group by day and hour\n",
    "ft_all_df_grouped = foodtruck_data.groupby(['Day', 'Hour']).mean()['valeur commande']\n",
    "ft_all_df_grouped"
   ]
  },
  {
   "cell_type": "code",
   "execution_count": 4,
   "metadata": {
    "collapsed": false,
    "pycharm": {
     "name": "#%%\n"
    }
   },
   "outputs": [
    {
     "data": {
      "text/html": [
       "<div>\n",
       "<style scoped>\n",
       "    .dataframe tbody tr th:only-of-type {\n",
       "        vertical-align: middle;\n",
       "    }\n",
       "\n",
       "    .dataframe tbody tr th {\n",
       "        vertical-align: top;\n",
       "    }\n",
       "\n",
       "    .dataframe thead th {\n",
       "        text-align: right;\n",
       "    }\n",
       "</style>\n",
       "<table border=\"1\" class=\"dataframe\">\n",
       "  <thead>\n",
       "    <tr style=\"text-align: right;\">\n",
       "      <th></th>\n",
       "      <th>Hour</th>\n",
       "      <th>Hour_missing</th>\n",
       "      <th>dummy_Friday</th>\n",
       "      <th>dummy_Saturday</th>\n",
       "      <th>dummy_Sunday</th>\n",
       "      <th>dummy_Thursday</th>\n",
       "      <th>dummy_Wednesday</th>\n",
       "      <th>dummy_10.0</th>\n",
       "      <th>dummy_11.0</th>\n",
       "      <th>dummy_12.0</th>\n",
       "      <th>dummy_13.0</th>\n",
       "      <th>dummy_18.0</th>\n",
       "      <th>dummy_19.0</th>\n",
       "      <th>dummy_20.0</th>\n",
       "      <th>dummy_21.0</th>\n",
       "      <th>dummy_22.0</th>\n",
       "    </tr>\n",
       "  </thead>\n",
       "  <tbody>\n",
       "    <tr>\n",
       "      <th>0</th>\n",
       "      <td>18.0</td>\n",
       "      <td>0.0</td>\n",
       "      <td>0</td>\n",
       "      <td>0</td>\n",
       "      <td>1</td>\n",
       "      <td>0</td>\n",
       "      <td>0</td>\n",
       "      <td>0</td>\n",
       "      <td>0</td>\n",
       "      <td>0</td>\n",
       "      <td>0</td>\n",
       "      <td>1</td>\n",
       "      <td>0</td>\n",
       "      <td>0</td>\n",
       "      <td>0</td>\n",
       "      <td>0</td>\n",
       "    </tr>\n",
       "    <tr>\n",
       "      <th>1</th>\n",
       "      <td>18.0</td>\n",
       "      <td>0.0</td>\n",
       "      <td>0</td>\n",
       "      <td>0</td>\n",
       "      <td>1</td>\n",
       "      <td>0</td>\n",
       "      <td>0</td>\n",
       "      <td>0</td>\n",
       "      <td>0</td>\n",
       "      <td>0</td>\n",
       "      <td>0</td>\n",
       "      <td>1</td>\n",
       "      <td>0</td>\n",
       "      <td>0</td>\n",
       "      <td>0</td>\n",
       "      <td>0</td>\n",
       "    </tr>\n",
       "    <tr>\n",
       "      <th>2</th>\n",
       "      <td>19.0</td>\n",
       "      <td>0.0</td>\n",
       "      <td>0</td>\n",
       "      <td>0</td>\n",
       "      <td>1</td>\n",
       "      <td>0</td>\n",
       "      <td>0</td>\n",
       "      <td>0</td>\n",
       "      <td>0</td>\n",
       "      <td>0</td>\n",
       "      <td>0</td>\n",
       "      <td>0</td>\n",
       "      <td>1</td>\n",
       "      <td>0</td>\n",
       "      <td>0</td>\n",
       "      <td>0</td>\n",
       "    </tr>\n",
       "    <tr>\n",
       "      <th>3</th>\n",
       "      <td>19.0</td>\n",
       "      <td>0.0</td>\n",
       "      <td>0</td>\n",
       "      <td>0</td>\n",
       "      <td>1</td>\n",
       "      <td>0</td>\n",
       "      <td>0</td>\n",
       "      <td>0</td>\n",
       "      <td>0</td>\n",
       "      <td>0</td>\n",
       "      <td>0</td>\n",
       "      <td>0</td>\n",
       "      <td>1</td>\n",
       "      <td>0</td>\n",
       "      <td>0</td>\n",
       "      <td>0</td>\n",
       "    </tr>\n",
       "    <tr>\n",
       "      <th>4</th>\n",
       "      <td>19.0</td>\n",
       "      <td>0.0</td>\n",
       "      <td>0</td>\n",
       "      <td>0</td>\n",
       "      <td>1</td>\n",
       "      <td>0</td>\n",
       "      <td>0</td>\n",
       "      <td>0</td>\n",
       "      <td>0</td>\n",
       "      <td>0</td>\n",
       "      <td>0</td>\n",
       "      <td>0</td>\n",
       "      <td>1</td>\n",
       "      <td>0</td>\n",
       "      <td>0</td>\n",
       "      <td>0</td>\n",
       "    </tr>\n",
       "  </tbody>\n",
       "</table>\n",
       "</div>"
      ],
      "text/plain": [
       "   Hour  Hour_missing  dummy_Friday  dummy_Saturday  dummy_Sunday  \\\n",
       "0  18.0           0.0             0               0             1   \n",
       "1  18.0           0.0             0               0             1   \n",
       "2  19.0           0.0             0               0             1   \n",
       "3  19.0           0.0             0               0             1   \n",
       "4  19.0           0.0             0               0             1   \n",
       "\n",
       "   dummy_Thursday  dummy_Wednesday  dummy_10.0  dummy_11.0  dummy_12.0  \\\n",
       "0               0                0           0           0           0   \n",
       "1               0                0           0           0           0   \n",
       "2               0                0           0           0           0   \n",
       "3               0                0           0           0           0   \n",
       "4               0                0           0           0           0   \n",
       "\n",
       "   dummy_13.0  dummy_18.0  dummy_19.0  dummy_20.0  dummy_21.0  dummy_22.0  \n",
       "0           0           1           0           0           0           0  \n",
       "1           0           1           0           0           0           0  \n",
       "2           0           0           1           0           0           0  \n",
       "3           0           0           1           0           0           0  \n",
       "4           0           0           1           0           0           0  "
      ]
     },
     "execution_count": 4,
     "metadata": {},
     "output_type": "execute_result"
    }
   ],
   "source": [
    "ft_time_df = foodtruck_data[[\"Hour\", \"Hour_missing\"]]\n",
    "\n",
    "#creation of a dummy variable for days to be able to go into a regression\n",
    "#also creation of dummy variable for hours to be able to go into a regression\n",
    "ft_time_df = pd.concat([ft_time_df, pd.get_dummies(foodtruck_data['Day'], prefix='dummy')], axis=1)\n",
    "ft_time_df = pd.concat([ft_time_df, pd.get_dummies(foodtruck_data['Hour'], prefix='dummy')], axis=1)\n",
    "\n",
    "ft_time_df.head()"
   ]
  },
  {
   "cell_type": "markdown",
   "metadata": {
    "collapsed": false,
    "pycharm": {
     "name": "#%% md\n"
    }
   },
   "source": [
    "## Logistic regression for missing hours"
   ]
  },
  {
   "cell_type": "code",
   "execution_count": 5,
   "metadata": {
    "collapsed": false,
    "pycharm": {
     "name": "#%%\n"
    }
   },
   "outputs": [
    {
     "name": "stdout",
     "output_type": "stream",
     "text": [
      "0.61\n"
     ]
    }
   ],
   "source": [
    "#load libraries\n",
    "\n",
    "\n",
    "#load data\n",
    "features_hour = ft_time_df.drop(['Hour_missing','Hour'], axis=1)\n",
    "target_hour = ft_time_df['Hour_missing']\n",
    "\n",
    "#split data into training and test sets\n",
    "X_train, X_test, y_train, y_test = train_test_split(features_hour, target_hour, test_size=0.3, random_state=0)\n",
    "\n",
    "#create logistic regression model\n",
    "logreg = LogisticRegression()\n",
    "\n",
    "\n",
    "#fit the model\n",
    "model = logreg.fit(X_train, y_train)\n",
    "\n",
    "#predict the test set\n",
    "y_pred = model.predict(X_test)\n",
    "\n",
    "#print the accuracy\n",
    "print(model.score(X_test, y_test))"
   ]
  },
  {
   "cell_type": "code",
   "execution_count": 6,
   "metadata": {
    "collapsed": false,
    "pycharm": {
     "name": "#%%\n"
    }
   },
   "outputs": [
    {
     "name": "stdout",
     "output_type": "stream",
     "text": [
      "Root Mean Square Error:\n",
      "\n",
      "0.6244997998398398\n"
     ]
    }
   ],
   "source": [
    "MSE = mean_squared_error(y_test, y_pred)\n",
    "RMSE = math.sqrt(MSE)\n",
    "print(\"Root Mean Square Error:\\n\")\n",
    "print(RMSE)"
   ]
  },
  {
   "cell_type": "code",
   "execution_count": 7,
   "metadata": {
    "collapsed": false,
    "pycharm": {
     "name": "#%%\n"
    }
   },
   "outputs": [
    {
     "data": {
      "text/plain": [
       "Text(0.5, 1.0, 'Accuracy in function of test size')"
      ]
     },
     "execution_count": 7,
     "metadata": {},
     "output_type": "execute_result"
    },
    {
     "data": {
      "image/png": "[encoded data removed]",
      "text/plain": [
       "<Figure size 432x288 with 1 Axes>"
      ]
     },
     "metadata": {
      "needs_background": "light"
     },
     "output_type": "display_data"
    }
   ],
   "source": [
    "#plot accuracy in function of test size\n",
    "test_size = [0.1, 0.2, 0.3, 0.4, 0.5, 0.6, 0.7, 0.8, 0.9]\n",
    "accuracy = []\n",
    "for i in test_size:\n",
    "    X_train, X_test, y_train, y_test = train_test_split(features_hour, target_hour, test_size=i, random_state=0)\n",
    "    model = logreg.fit(X_train, y_train)\n",
    "    accuracy.append(model.score(X_test, y_test))\n",
    "plt.plot(test_size, accuracy)\n",
    "plt.xlabel('Test size')\n",
    "plt.ylabel('Accuracy')\n",
    "plt.title('Accuracy in function of test size')"
   ]
  },
  {
   "cell_type": "code",
   "execution_count": 8,
   "metadata": {
    "collapsed": false,
    "pycharm": {
     "name": "#%%\n"
    }
   },
   "outputs": [
    {
     "data": {
      "text/plain": [
       "Text(0.5, 1.0, 'Accuracy in function of test size')"
      ]
     },
     "execution_count": 8,
     "metadata": {},
     "output_type": "execute_result"
    },
    {
     "data": {
      "image/png": "[encoded data removed]",
      "text/plain": [
       "<Figure size 432x288 with 1 Axes>"
      ]
     },
     "metadata": {
      "needs_background": "light"
     },
     "output_type": "display_data"
    }
   ],
   "source": [
    "#Increase of the accuracy using more variables\n",
    "features_hour2 = pd.concat([features_hour, foodtruck_data[[\"Petite Frite\", \"Moyenne Frite\", \"Grande Frite\", \"Burger\"]]], axis=1)\n",
    "\n",
    "#Split data into training and test sets\n",
    "X_train2, X_test2, y_train2, y_test2 = train_test_split(features_hour2, target_hour, test_size=0.3, random_state=0)\n",
    "\n",
    "#create logistic regression model\n",
    "logreg2 = LogisticRegression()\n",
    "\n",
    "#fit the model & predict the test set\n",
    "model2 = logreg2.fit(X_train2, y_train2)\n",
    "y_pred2 = model2.predict(X_test2)\n",
    "\n",
    "#plot accuracy in function of test size\n",
    "test_size2 = [0.1, 0.2, 0.3, 0.4, 0.5, 0.6, 0.7, 0.8, 0.9]\n",
    "accuracy2 = []\n",
    "for i in test_size2:\n",
    "    X_train2, X_test2, y_train2, y_test2 = train_test_split(features_hour2, target_hour, test_size=i, random_state=0)\n",
    "    model2 = logreg2.fit(X_train2, y_train2)\n",
    "    accuracy2.append(model2.score(X_test2, y_test2))\n",
    "plt.plot(test_size2, accuracy2)\n",
    "plt.xlabel('Test size')\n",
    "plt.ylabel('Accuracy')\n",
    "plt.title('Accuracy in function of test size')"
   ]
  },
  {
   "cell_type": "code",
   "execution_count": 9,
   "metadata": {
    "collapsed": false,
    "pycharm": {
     "name": "#%%\n"
    }
   },
   "outputs": [
    {
     "name": "stdout",
     "output_type": "stream",
     "text": [
      "Accuracy of the model with all the variables:\n",
      "0.693609022556391\n",
      "\n",
      "Root Mean Square Error:\n",
      "0.5535259501085825\n"
     ]
    }
   ],
   "source": [
    "X_train2, X_test2, y_train2, y_test2 = train_test_split(features_hour2, target_hour, test_size=0.8, random_state=0)\n",
    "model2 = logreg2.fit(X_train2, y_train2)\n",
    "accuracy2.append(model2.score(X_test2, y_test2))\n",
    "y_pred2 = model2.predict(X_test2)\n",
    "\n",
    "print(\"Accuracy of the model with all the variables:\")\n",
    "print(model2.score(X_test2, y_test2))\n",
    "\n",
    "MSE = mean_squared_error(y_test2, y_pred2)\n",
    "RMSE = math.sqrt(MSE)\n",
    "print(\"\\nRoot Mean Square Error:\")\n",
    "print(RMSE)"
   ]
  },
  {
   "cell_type": "code",
   "execution_count": 10,
   "metadata": {
    "collapsed": false,
    "pycharm": {
     "name": "#%%\n"
    }
   },
   "outputs": [
    {
     "data": {
      "text/plain": [
       "Text(0.5, 1.0, 'Accuracy in function of test size')"
      ]
     },
     "execution_count": 10,
     "metadata": {},
     "output_type": "execute_result"
    },
    {
     "data": {
      "image/png": "[encoded data removed]",
      "text/plain": [
       "<Figure size 432x288 with 1 Axes>"
      ]
     },
     "metadata": {
      "needs_background": "light"
     },
     "output_type": "display_data"
    }
   ],
   "source": [
    "#Simple logistic regression\n",
    "feature = pd.get_dummies(foodtruck_data['Hour'], prefix='dummy')\n",
    "target = foodtruck_data['Hour_missing']\n",
    "\n",
    "#split data into training and test sets\n",
    "X_train, X_test, y_train, y_test = train_test_split(feature, target, test_size=0.3, random_state=0)\n",
    "\n",
    "#create logistic regression model\n",
    "logreg = LogisticRegression()\n",
    "\n",
    "#fit the model & predict the test set\n",
    "#plot accuracy in function of test size\n",
    "test_size = [0.1, 0.2, 0.3, 0.4, 0.5, 0.6, 0.7, 0.8, 0.9]\n",
    "accuracy = []\n",
    "for i in test_size:\n",
    "    X_train, X_test, y_train, y_test = train_test_split(feature, target, test_size=i, random_state=0)\n",
    "    model = logreg.fit(X_train, y_train)\n",
    "    accuracy.append(model.score(X_test, y_test))\n",
    "plt.plot(test_size, accuracy)\n",
    "plt.xlabel('Test size')\n",
    "plt.ylabel('Accuracy')\n",
    "plt.title('Accuracy in function of test size')"
   ]
  },
  {
   "cell_type": "markdown",
   "metadata": {
    "collapsed": false
   },
   "source": [
    "## Linear regression to predict Price regarding products bought"
   ]
  },
  {
   "cell_type": "code",
   "execution_count": 11,
   "metadata": {
    "collapsed": false,
    "pycharm": {
     "name": "#%%\n"
    }
   },
   "outputs": [
    {
     "data": {
      "text/html": [
       "<div>\n",
       "<style scoped>\n",
       "    .dataframe tbody tr th:only-of-type {\n",
       "        vertical-align: middle;\n",
       "    }\n",
       "\n",
       "    .dataframe tbody tr th {\n",
       "        vertical-align: top;\n",
       "    }\n",
       "\n",
       "    .dataframe thead th {\n",
       "        text-align: right;\n",
       "    }\n",
       "</style>\n",
       "<table border=\"1\" class=\"dataframe\">\n",
       "  <thead>\n",
       "    <tr style=\"text-align: right;\">\n",
       "      <th></th>\n",
       "      <th>Petite Frite</th>\n",
       "      <th>Moyenne Frite</th>\n",
       "      <th>Grande Frite</th>\n",
       "      <th>Burger</th>\n",
       "    </tr>\n",
       "  </thead>\n",
       "  <tbody>\n",
       "    <tr>\n",
       "      <th>0</th>\n",
       "      <td>0</td>\n",
       "      <td>0</td>\n",
       "      <td>1</td>\n",
       "      <td>2</td>\n",
       "    </tr>\n",
       "    <tr>\n",
       "      <th>1</th>\n",
       "      <td>0</td>\n",
       "      <td>1</td>\n",
       "      <td>0</td>\n",
       "      <td>2</td>\n",
       "    </tr>\n",
       "    <tr>\n",
       "      <th>2</th>\n",
       "      <td>0</td>\n",
       "      <td>2</td>\n",
       "      <td>2</td>\n",
       "      <td>0</td>\n",
       "    </tr>\n",
       "    <tr>\n",
       "      <th>3</th>\n",
       "      <td>0</td>\n",
       "      <td>2</td>\n",
       "      <td>0</td>\n",
       "      <td>1</td>\n",
       "    </tr>\n",
       "    <tr>\n",
       "      <th>4</th>\n",
       "      <td>0</td>\n",
       "      <td>0</td>\n",
       "      <td>1</td>\n",
       "      <td>2</td>\n",
       "    </tr>\n",
       "    <tr>\n",
       "      <th>...</th>\n",
       "      <td>...</td>\n",
       "      <td>...</td>\n",
       "      <td>...</td>\n",
       "      <td>...</td>\n",
       "    </tr>\n",
       "    <tr>\n",
       "      <th>659</th>\n",
       "      <td>0</td>\n",
       "      <td>4</td>\n",
       "      <td>0</td>\n",
       "      <td>0</td>\n",
       "    </tr>\n",
       "    <tr>\n",
       "      <th>660</th>\n",
       "      <td>0</td>\n",
       "      <td>0</td>\n",
       "      <td>1</td>\n",
       "      <td>0</td>\n",
       "    </tr>\n",
       "    <tr>\n",
       "      <th>661</th>\n",
       "      <td>0</td>\n",
       "      <td>0</td>\n",
       "      <td>0</td>\n",
       "      <td>8</td>\n",
       "    </tr>\n",
       "    <tr>\n",
       "      <th>662</th>\n",
       "      <td>0</td>\n",
       "      <td>0</td>\n",
       "      <td>1</td>\n",
       "      <td>0</td>\n",
       "    </tr>\n",
       "    <tr>\n",
       "      <th>663</th>\n",
       "      <td>0</td>\n",
       "      <td>0</td>\n",
       "      <td>2</td>\n",
       "      <td>0</td>\n",
       "    </tr>\n",
       "  </tbody>\n",
       "</table>\n",
       "<p>664 rows × 4 columns</p>\n",
       "</div>"
      ],
      "text/plain": [
       "     Petite Frite  Moyenne Frite  Grande Frite  Burger\n",
       "0               0              0             1       2\n",
       "1               0              1             0       2\n",
       "2               0              2             2       0\n",
       "3               0              2             0       1\n",
       "4               0              0             1       2\n",
       "..            ...            ...           ...     ...\n",
       "659             0              4             0       0\n",
       "660             0              0             1       0\n",
       "661             0              0             0       8\n",
       "662             0              0             1       0\n",
       "663             0              0             2       0\n",
       "\n",
       "[664 rows x 4 columns]"
      ]
     },
     "execution_count": 11,
     "metadata": {},
     "output_type": "execute_result"
    }
   ],
   "source": [
    "ft_food_df = foodtruck_data[[\"Petite Frite\", \"Moyenne Frite\", \"Grande Frite\", \"Burger\"]]\n",
    "ft_food_df"
   ]
  },
  {
   "cell_type": "code",
   "execution_count": 12,
   "metadata": {
    "collapsed": false,
    "pycharm": {
     "name": "#%%\n"
    }
   },
   "outputs": [
    {
     "data": {
      "text/html": [
       "<div>\n",
       "<style scoped>\n",
       "    .dataframe tbody tr th:only-of-type {\n",
       "        vertical-align: middle;\n",
       "    }\n",
       "\n",
       "    .dataframe tbody tr th {\n",
       "        vertical-align: top;\n",
       "    }\n",
       "\n",
       "    .dataframe thead th {\n",
       "        text-align: right;\n",
       "    }\n",
       "</style>\n",
       "<table border=\"1\" class=\"dataframe\">\n",
       "  <thead>\n",
       "    <tr style=\"text-align: right;\">\n",
       "      <th></th>\n",
       "      <th>Coefficient</th>\n",
       "    </tr>\n",
       "  </thead>\n",
       "  <tbody>\n",
       "    <tr>\n",
       "      <th>Petite Frite</th>\n",
       "      <td>2.0</td>\n",
       "    </tr>\n",
       "    <tr>\n",
       "      <th>Moyenne Frite</th>\n",
       "      <td>3.0</td>\n",
       "    </tr>\n",
       "    <tr>\n",
       "      <th>Grande Frite</th>\n",
       "      <td>4.0</td>\n",
       "    </tr>\n",
       "    <tr>\n",
       "      <th>Burger</th>\n",
       "      <td>6.0</td>\n",
       "    </tr>\n",
       "  </tbody>\n",
       "</table>\n",
       "</div>"
      ],
      "text/plain": [
       "               Coefficient\n",
       "Petite Frite           2.0\n",
       "Moyenne Frite          3.0\n",
       "Grande Frite           4.0\n",
       "Burger                 6.0"
      ]
     },
     "execution_count": 12,
     "metadata": {},
     "output_type": "execute_result"
    }
   ],
   "source": [
    "#load libraries\n",
    "from sklearn.linear_model import LinearRegression\n",
    "\n",
    "#load data\n",
    "features = ft_food_df\n",
    "target = foodtruck_data['valeur commande']\n",
    "\n",
    "#create linear regression model\n",
    "regression = LinearRegression()\n",
    "\n",
    "#fit the model\n",
    "model = regression.fit(features, target)\n",
    "\n",
    "#view the coefficients which are the weights of the model with the features\n",
    "df_coef_price = pd.DataFrame(model.coef_, features.columns, columns=['Coefficient'])\n",
    "df_coef_price"
   ]
  },
  {
   "cell_type": "markdown",
   "metadata": {
    "collapsed": false
   },
   "source": [
    "### Predict price using All features"
   ]
  },
  {
   "cell_type": "code",
   "execution_count": 18,
   "metadata": {
    "collapsed": false,
    "pycharm": {
     "name": "#%%\n"
    }
   },
   "outputs": [
    {
     "name": "stdout",
     "output_type": "stream",
     "text": [
      "1.0\n"
     ]
    }
   ],
   "source": [
    "#Load time features\n",
    "feature = pd.concat([features_hour, foodtruck_data[[\"Petite Frite\", \"Moyenne Frite\", \"Grande Frite\", \"Burger\"]]], axis=1)\n",
    "target = foodtruck_data['valeur commande']\n",
    "\n",
    "#create linear regression model\n",
    "regression = LinearRegression()\n",
    "\n",
    "#Split data into training and test sets\n",
    "X_train, X_test, y_train, y_test = train_test_split(feature, target, test_size=0.3, random_state=0)\n",
    "\n",
    "#fit the model & predict the test set\n",
    "model = regression.fit(X_train, y_train)\n",
    "y_pred = model.predict(X_test)\n",
    "\n",
    "#print the accuracy\n",
    "print(model.score(X_test, y_test))"
   ]
  },
  {
   "cell_type": "markdown",
   "metadata": {
    "collapsed": false,
    "pycharm": {
     "name": "#%% md\n"
    }
   },
   "source": [
    "# RANDOM FOREST"
   ]
  },
  {
   "cell_type": "code",
   "execution_count": 20,
   "metadata": {
    "collapsed": false,
    "pycharm": {
     "name": "#%%\n"
    }
   },
   "outputs": [
    {
     "data": {
      "image/png": "[encoded data removed]",
      "text/plain": [
       "<Figure size 432x288 with 1 Axes>"
      ]
     },
     "metadata": {
      "needs_background": "light"
     },
     "output_type": "display_data"
    }
   ],
   "source": [
    "#load data\n",
    "features = pd.concat([features_hour, foodtruck_data[[\"Petite Frite\", \"Moyenne Frite\", \"Grande Frite\", \"Burger\"]]], axis=1)\n",
    "target = foodtruck_data['valeur commande']\n",
    "\n",
    "#create random forest model\n",
    "random_forest = RandomForestRegressor(n_estimators=100)\n",
    "\n",
    "#Plot accuracy in function of test size\n",
    "test_size = [0.1, 0.2, 0.3, 0.4, 0.5, 0.6, 0.7, 0.8, 0.9]\n",
    "accuracy = []\n",
    "for i in test_size:\n",
    "    X_train, X_test, y_train, y_test = train_test_split(features, target, test_size=i, random_state=0)\n",
    "    model = random_forest.fit(X_train, y_train)\n",
    "    accuracy.append(model.score(X_test, y_test))\n",
    "plt.plot(test_size, accuracy)\n",
    "plt.xlabel('Test size')\n",
    "plt.ylabel('Accuracy')\n",
    "plt.title('Accuracy in function of test size')\n",
    "plt.show()"
   ]
  },
  {
   "cell_type": "code",
   "execution_count": 22,
   "metadata": {
    "collapsed": false,
    "pycharm": {
     "name": "#%%\n"
    }
   },
   "outputs": [
    {
     "data": {
      "image/png": "[encoded data removed]",
      "text/plain": [
       "<Figure size 432x288 with 1 Axes>"
      ]
     },
     "metadata": {
      "needs_background": "light"
     },
     "output_type": "display_data"
    }
   ],
   "source": [
    "#load data\n",
    "features = foodtruck_data[[\"Petite Frite\", \"Moyenne Frite\", \"Grande Frite\", \"Burger\"]]\n",
    "target = foodtruck_data['valeur commande']\n",
    "\n",
    "#create random forest model\n",
    "random_forest = RandomForestRegressor(n_estimators=100)\n",
    "\n",
    "\n",
    "#Plot accuracy in function of test size\n",
    "test_size = [0.1, 0.2, 0.3, 0.4, 0.5, 0.6, 0.7, 0.8, 0.9]\n",
    "accuracy = []\n",
    "for i in test_size:\n",
    "    X_train, X_test, y_train, y_test = train_test_split(features, target, test_size=i, random_state=0)\n",
    "    model = random_forest.fit(X_train, y_train)\n",
    "    accuracy.append(model.score(X_test, y_test))\n",
    "plt.plot(test_size, accuracy)\n",
    "plt.xlabel('Test size')\n",
    "plt.ylabel('Accuracy')\n",
    "plt.title('Accuracy in function of test size')\n",
    "plt.show()"
   ]
  },
  {
   "cell_type": "code",
   "execution_count": 24,
   "metadata": {
    "collapsed": false,
    "pycharm": {
     "name": "#%%\n"
    }
   },
   "outputs": [
    {
     "data": {
      "image/png": "[encoded data removed]",
      "text/plain": [
       "<Figure size 432x288 with 1 Axes>"
      ]
     },
     "metadata": {
      "needs_background": "light"
     },
     "output_type": "display_data"
    }
   ],
   "source": [
    "#load data\n",
    "features = pd.concat([features_hour, foodtruck_data[[\"Petite Frite\", \"Moyenne Frite\", \"Grande Frite\", \"Burger\"]]], axis=1)\n",
    "target = foodtruck_data['Hour_missing']\n",
    "\n",
    "#create random forest model\n",
    "random_forest = RandomForestRegressor(n_estimators=100)\n",
    "\n",
    "#Plot accuracy in function of test size\n",
    "test_size = [0.1, 0.2, 0.3, 0.4, 0.5, 0.6, 0.7, 0.8, 0.9]\n",
    "accuracy = []\n",
    "for i in test_size:\n",
    "    X_train, X_test, y_train, y_test = train_test_split(features, target, test_size=i, random_state=0)\n",
    "    model = random_forest.fit(X_train, y_train)\n",
    "    accuracy.append(model.score(X_test, y_test))\n",
    "plt.plot(test_size, accuracy)\n",
    "plt.xlabel('Test size')\n",
    "plt.ylabel('Accuracy')\n",
    "plt.title('Accuracy in function of test size')\n",
    "plt.show()"
   ]
  }
 ],
 "metadata": {
  "kernelspec": {
   "display_name": "Python 3",
   "language": "python",
   "name": "python3"
  },
  "language_info": {
   "codemirror_mode": {
    "name": "ipython",
    "version": 2
   },
   "file_extension": ".py",
   "mimetype": "text/x-python",
   "name": "python",
   "nbconvert_exporter": "python",
   "pygments_lexer": "ipython2",
   "version": "2.7.6"
  }
 },
 "nbformat": 4,
 "nbformat_minor": 0
}
